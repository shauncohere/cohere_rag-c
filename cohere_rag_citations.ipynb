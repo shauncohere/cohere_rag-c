{
  "nbformat": 4,
  "nbformat_minor": 0,
  "metadata": {
    "colab": {
      "provenance": [],
      "authorship_tag": "ABX9TyPcWEPNFgBsIyyWOlyV/Ll5",
      "include_colab_link": true
    },
    "kernelspec": {
      "name": "python3",
      "display_name": "Python 3"
    },
    "language_info": {
      "name": "python"
    }
  },
  "cells": [
    {
      "cell_type": "markdown",
      "metadata": {
        "id": "view-in-github",
        "colab_type": "text"
      },
      "source": [
        "<a href=\"https://colab.research.google.com/github/shauncohere/cohere_rag-c/blob/main/cohere_rag_citations.ipynb\" target=\"_parent\"><img src=\"https://colab.research.google.com/assets/colab-badge.svg\" alt=\"Open In Colab\"/></a>"
      ]
    },
    {
      "cell_type": "code",
      "execution_count": null,
      "metadata": {
        "id": "q7trPY-talah"
      },
      "outputs": [],
      "source": [
        "!pip install qdrant-client\n",
        "!pip install cohere langchain qdrant-client tfds-nightly"
      ]
    },
    {
      "cell_type": "markdown",
      "source": [
        "## QnA Bot with citations for an airbnB in the canary islands"
      ],
      "metadata": {
        "id": "CqqiLY6ffitk"
      }
    },
    {
      "cell_type": "code",
      "source": [
        "from langchain import OpenAI\n",
        "from langchain.embeddings import OpenAIEmbeddings\n",
        "import os\n",
        "from langchain.chat_models import ChatOpenAI\n",
        "from langchain.chains import RetrievalQAWithSourcesChain\n",
        "from langchain.prompts.chat import (\n",
        "    ChatPromptTemplate,\n",
        "    SystemMessagePromptTemplate,\n",
        "    HumanMessagePromptTemplate,\n",
        ")\n",
        "from IPython.display import display, Markdown, Latex\n",
        "from langchain.embeddings.cohere import CohereEmbeddings\n",
        "from langchain.llms import Cohere\n",
        "from langchain.prompts import PromptTemplate\n",
        "from langchain.text_splitter import RecursiveCharacterTextSplitter\n",
        "from langchain.chains.question_answering import load_qa_chain\n",
        "from langchain.chains import RetrievalQA\n",
        "from langchain.vectorstores import Qdrant\n",
        "from langchain.document_loaders import TextLoader\n",
        "import textwrap as tr\n",
        "import random\n",
        "import os\n",
        "\n",
        "os.environ[\"COHERE_API_KEY\"] = ''"
      ],
      "metadata": {
        "id": "l5ba0M7_ehDG"
      },
      "execution_count": null,
      "outputs": []
    },
    {
      "cell_type": "markdown",
      "source": [
        "# Populate Text Embeddings into a VectorDB"
      ],
      "metadata": {
        "id": "BdZVfEYdeSUW"
      }
    },
    {
      "cell_type": "code",
      "source": [
        "# save the embeddings in a DB that is persisten\n",
        "from langchain.document_loaders import TextLoader\n",
        "from langchain.text_splitter import CharacterTextSplitter\n",
        "loader = TextLoader(\"./facts.txt\")\n",
        "document=loader.load()\n",
        "docs=document[0].page_content\n",
        "text_splitter = CharacterTextSplitter(\n",
        "    # Set a really small chunk size, just to show.\n",
        "    separator ='\\n\\n',\n",
        "    chunk_size = 100,\n",
        "    chunk_overlap  = 0,\n",
        "    length_function = len,\n",
        "    add_start_index = True,\n",
        ")\n",
        "docs = text_splitter.create_documents([docs])\n",
        "texts = [doc.page_content for doc in docs]\n",
        "\n",
        "\n",
        "# Define the embeddings model\n",
        "embeddings = CohereEmbeddings(model = 'embed-multilingual-v2.0')\n",
        "\n",
        "metadata=[{\"source\": text} for text in texts]\n",
        "\n",
        "# Embed the documents and store in index\n",
        "vector_store = Qdrant.from_texts(texts, embeddings, location=\":memory:\",metadatas=metadata, collection_name=\"summaries\", distance_func=\"Dot\")\n"
      ],
      "metadata": {
        "colab": {
          "base_uri": "https://localhost:8080/"
        },
        "id": "moMkh02kcq3W",
        "outputId": "7923ebca-60d7-4442-b1ca-1223b49d4734"
      },
      "execution_count": null,
      "outputs": [
        {
          "output_type": "stream",
          "name": "stderr",
          "text": [
            "WARNING:langchain.text_splitter:Created a chunk of size 240, which is longer than the specified 100\n",
            "WARNING:langchain.text_splitter:Created a chunk of size 283, which is longer than the specified 100\n",
            "WARNING:langchain.text_splitter:Created a chunk of size 193, which is longer than the specified 100\n",
            "WARNING:langchain.text_splitter:Created a chunk of size 268, which is longer than the specified 100\n",
            "WARNING:langchain.text_splitter:Created a chunk of size 288, which is longer than the specified 100\n",
            "WARNING:langchain.text_splitter:Created a chunk of size 265, which is longer than the specified 100\n",
            "WARNING:langchain.text_splitter:Created a chunk of size 271, which is longer than the specified 100\n",
            "WARNING:langchain.text_splitter:Created a chunk of size 274, which is longer than the specified 100\n",
            "WARNING:langchain.text_splitter:Created a chunk of size 216, which is longer than the specified 100\n",
            "WARNING:langchain.text_splitter:Created a chunk of size 210, which is longer than the specified 100\n",
            "WARNING:langchain.text_splitter:Created a chunk of size 243, which is longer than the specified 100\n",
            "WARNING:langchain.text_splitter:Created a chunk of size 282, which is longer than the specified 100\n",
            "WARNING:langchain.text_splitter:Created a chunk of size 251, which is longer than the specified 100\n",
            "WARNING:langchain.text_splitter:Created a chunk of size 272, which is longer than the specified 100\n",
            "WARNING:langchain.text_splitter:Created a chunk of size 275, which is longer than the specified 100\n",
            "WARNING:langchain.text_splitter:Created a chunk of size 285, which is longer than the specified 100\n"
          ]
        }
      ]
    },
    {
      "cell_type": "markdown",
      "source": [],
      "metadata": {
        "id": "CWkf7AXIfg3n"
      }
    },
    {
      "cell_type": "markdown",
      "source": [
        "## Query the VectorDB return Generation and Citations"
      ],
      "metadata": {
        "id": "g05eNSg4fOaV"
      }
    },
    {
      "cell_type": "code",
      "source": [
        "retriever=vector_store.as_retriever()\n",
        "\n",
        "\n",
        "prompt_template=\"\"\"You are Delores, an AI customer service agent that talks to guests staying in an AirBnB in the canary islands.\n",
        "Answer the questions using the facts provided. You always uses pleasantries and polite greetings like \"Good morning\"\n",
        "and \"Good afternoon\". Use the following pieces of context to answer the users question.\n",
        "Take note of the sources and include them in the answer in the format: \"SOURCES: source1 source2\", use \"SOURCES\" in capital letters regardless of the number of sources.\n",
        "If you don't know the answer, just say that \"I don't know\", don't try to make up an answer.\n",
        "----------------\n",
        "{summaries}\"\"\"\n",
        "\n",
        "messages = [\n",
        "    SystemMessagePromptTemplate.from_template(prompt_template),\n",
        "    HumanMessagePromptTemplate.from_template(\"{question}\")\n",
        "]\n",
        "prompt = ChatPromptTemplate.from_messages(messages)\n",
        "\n",
        "chain_type_kwargs = {\"prompt\": prompt}\n",
        "\n",
        "llm=Cohere(model=\"command-nightly\")\n",
        "\n",
        "\n",
        "chain = RetrievalQAWithSourcesChain.from_chain_type(\n",
        "    llm=llm,\n",
        "    chain_type=\"stuff\",\n",
        "    retriever=vector_store.as_retriever(),\n",
        "    return_source_documents=True,\n",
        "    chain_type_kwargs=chain_type_kwargs\n",
        ")\n",
        "\n",
        "def print_result(result):\n",
        "  output_text = f\"\"\"### Question:\n",
        "  {query}\n",
        "  ### Answer:\n",
        "  {result['answer']}\n",
        "  ### Sources:\n",
        "  {result['sources']}\n",
        "  ### All relevant sources:\n",
        "  {' '.join(list(set([doc.metadata['source'] for doc in result['source_documents']])))}\n",
        "  \"\"\"\n",
        "  return(output_text)"
      ],
      "metadata": {
        "id": "Lotkeq2EauTT"
      },
      "execution_count": null,
      "outputs": []
    },
    {
      "cell_type": "code",
      "source": [
        "query = \"Is there a bbq grill at the property?\"\n",
        "result = chain(query)\n",
        "display(Markdown(print_result(result)))"
      ],
      "metadata": {
        "colab": {
          "base_uri": "https://localhost:8080/",
          "height": 385
        },
        "id": "NVP7u28wevp5",
        "outputId": "5401c5c9-73dc-4c4d-b3e1-730fd8dbd2f2"
      },
      "execution_count": null,
      "outputs": [
        {
          "output_type": "display_data",
          "data": {
            "text/plain": [
              "<IPython.core.display.Markdown object>"
            ],
            "text/markdown": "### Question: \n  Is there a bbq grill at the property?\n  ### Answer: \n   Good afternoon! Yes, we have a designated beachfront dining area and a barbecue facility for our guests. You can savor your meals while taking in the beach atmosphere or enjoy a delightful barbecue with friends and family.\n\n  ### Sources: \n  Q: Is there a beachfront dining area or barbecue facility?\n  ### All relevant sources:\n  Q: Is there a beachfront dining area or barbecue facility?\nA: Yes, we have a designated beachfront dining area and a barbecue facility for our guests. You can savor your meals while taking in the beach atmosphere or enjoy a delightful barbecue with friends and family. Q: Is there a beach bar or beachside lounge area for relaxation?\nA: Certainly! We have a beach bar and lounge area exclusively for our guests. You can unwind with a refreshing drink or find a cozy spot to relax, read a book, or simply soak up the sun. Q: Are there beachside cafes or restaurants within walking distance?\nA: Yes, there are several beachside cafes and restaurants just a short stroll away from our Airbnb. You can indulge in delicious local cuisine or enjoy a refreshing drink while admiring the beach views. Q: Are there any beachfront water activities or rentals available nearby?\nA: Yes, there are beachfront water activity centers close to our Airbnb. You can rent jet skis, go on a thrilling parasailing adventure, or even book a guided snorkeling tour to explore the underwater beauty.\n  "
          },
          "metadata": {}
        }
      ]
    },
    {
      "cell_type": "markdown",
      "source": [
        "## Custom QnA with Citations"
      ],
      "metadata": {
        "id": "e78fg7-ce_BN"
      }
    },
    {
      "cell_type": "code",
      "source": [
        "query = input(\"How can I help?\" + '\\n')\n",
        "result = chain(query)\n",
        "display(Markdown(print_result(result)))"
      ],
      "metadata": {
        "colab": {
          "base_uri": "https://localhost:8080/",
          "height": 449
        },
        "id": "Yz8oiqLAdQM4",
        "outputId": "00e99d9d-c5b1-4ff8-bd15-a6ab5b931c8a"
      },
      "execution_count": null,
      "outputs": [
        {
          "name": "stdout",
          "output_type": "stream",
          "text": [
            "How can I help?\n",
            "What is there to do at the property?\n"
          ]
        },
        {
          "output_type": "display_data",
          "data": {
            "text/plain": [
              "<IPython.core.display.Markdown object>"
            ],
            "text/markdown": "### Question: \n  What is there to do at the property?\n  ### Answer: \n   There are many activities that you can do at the property. You can rent jet skis, go on a thrilling parasailing adventure, or even book a guided snorkeling tour to explore the underwater beauty. There is also a beach bar and lounge area exclusively for guests. You can unwind with a refreshing drink or find a cozy spot to relax, read a book, or simply soak up the sun. The property is also perfect for long walks or invigorating jogs along the shoreline. You can relish the fresh ocean breeze and take in the scenic beauty of the Canary Islands as you exercise. There is also a designated beachfront dining area and a barbecue facility for guests. You can savor your meals while taking in the beach atmosphere or enjoy a delightful barbecue with friends and family.\n  ### Sources: \n  \n  ### All relevant sources:\n  Q: Are there any beachfront water activities or rentals available nearby?\nA: Yes, there are beachfront water activity centers close to our Airbnb. You can rent jet skis, go on a thrilling parasailing adventure, or even book a guided snorkeling tour to explore the underwater beauty. Q: Is there a beach bar or beachside lounge area for relaxation?\nA: Certainly! We have a beach bar and lounge area exclusively for our guests. You can unwind with a refreshing drink or find a cozy spot to relax, read a book, or simply soak up the sun. Q: Is there a beachfront dining area or barbecue facility?\nA: Yes, we have a designated beachfront dining area and a barbecue facility for our guests. You can savor your meals while taking in the beach atmosphere or enjoy a delightful barbecue with friends and family. Q: Can I take long walks or go jogging on the beach?\nA: Certainly! Our beachfront location is perfect for long walks or invigorating jogs along the shoreline. You can relish the fresh ocean breeze and take in the scenic beauty of the Canary Islands as you exercise.\n  "
          },
          "metadata": {}
        }
      ]
    }
  ]
}